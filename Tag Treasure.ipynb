{
 "cells": [
  {
   "cell_type": "code",
   "execution_count": 1,
   "id": "65430575",
   "metadata": {},
   "outputs": [
    {
     "ename": "NoSuchElementException",
     "evalue": "Message: no such element: Unable to locate element: {\"method\":\"xpath\",\"selector\":\"/html/body/div[2]/div/div/div[2]/div/div/div[1]/div[1]/div[2]/section/main/article/div/div[2]/div/div[1]/div[1]/a/div[1]/div[2]\"}\n  (Session info: chrome=125.0.6422.141); For documentation on this error, please visit: https://www.selenium.dev/documentation/webdriver/troubleshooting/errors#no-such-element-exception\nStacktrace:\n\tGetHandleVerifier [0x00007FF6B4671F52+60322]\n\t(No symbol) [0x00007FF6B45ECEC9]\n\t(No symbol) [0x00007FF6B44A7EBA]\n\t(No symbol) [0x00007FF6B44F7676]\n\t(No symbol) [0x00007FF6B44F773C]\n\t(No symbol) [0x00007FF6B453E967]\n\t(No symbol) [0x00007FF6B451C25F]\n\t(No symbol) [0x00007FF6B453BC80]\n\t(No symbol) [0x00007FF6B451BFC3]\n\t(No symbol) [0x00007FF6B44E9617]\n\t(No symbol) [0x00007FF6B44EA211]\n\tGetHandleVerifier [0x00007FF6B49894AD+3301629]\n\tGetHandleVerifier [0x00007FF6B49D36D3+3605283]\n\tGetHandleVerifier [0x00007FF6B49C9450+3563680]\n\tGetHandleVerifier [0x00007FF6B4724326+790390]\n\t(No symbol) [0x00007FF6B45F750F]\n\t(No symbol) [0x00007FF6B45F3404]\n\t(No symbol) [0x00007FF6B45F3592]\n\t(No symbol) [0x00007FF6B45E2F9F]\n\tBaseThreadInitThunk [0x00007FFFD07B257D+29]\n\tRtlUserThreadStart [0x00007FFFD162AA48+40]\n",
     "output_type": "error",
     "traceback": [
      "\u001b[1;31m---------------------------------------------------------------------------\u001b[0m",
      "\u001b[1;31mNoSuchElementException\u001b[0m                    Traceback (most recent call last)",
      "Cell \u001b[1;32mIn[1], line 31\u001b[0m\n\u001b[0;32m     27\u001b[0m driver\u001b[38;5;241m.\u001b[39mget(\u001b[38;5;124m'\u001b[39m\u001b[38;5;124mhttps://www.instagram.com/explore/tags/lucknow/\u001b[39m\u001b[38;5;124m'\u001b[39m)\n\u001b[0;32m     29\u001b[0m time\u001b[38;5;241m.\u001b[39msleep(\u001b[38;5;241m2\u001b[39m)\n\u001b[1;32m---> 31\u001b[0m driver\u001b[38;5;241m.\u001b[39mfind_element(By\u001b[38;5;241m.\u001b[39mXPATH, \u001b[38;5;124m\"\u001b[39m\u001b[38;5;124m/html/body/div[2]/div/div/div[2]/div/div/div[1]/div[1]/div[2]/section/main/article/div/div[2]/div/div[1]/div[1]/a/div[1]/div[2]\u001b[39m\u001b[38;5;124m\"\u001b[39m)\u001b[38;5;241m.\u001b[39mclick()\n\u001b[0;32m     33\u001b[0m driver\u001b[38;5;241m.\u001b[39mfind_element(By\u001b[38;5;241m.\u001b[39mXPATH, \u001b[38;5;124m\"\u001b[39m\u001b[38;5;124m/html/body/div[7]/div[1]/div/div[3]/div/div/div/div/div[1]/div/div/div/button\u001b[39m\u001b[38;5;124m\"\u001b[39m)\u001b[38;5;241m.\u001b[39mclick()\n\u001b[0;32m     35\u001b[0m time\u001b[38;5;241m.\u001b[39msleep(\u001b[38;5;241m2\u001b[39m)\n",
      "File \u001b[1;32m~\\anaconda3\\Lib\\site-packages\\selenium\\webdriver\\remote\\webdriver.py:741\u001b[0m, in \u001b[0;36mWebDriver.find_element\u001b[1;34m(self, by, value)\u001b[0m\n\u001b[0;32m    738\u001b[0m     by \u001b[38;5;241m=\u001b[39m By\u001b[38;5;241m.\u001b[39mCSS_SELECTOR\n\u001b[0;32m    739\u001b[0m     value \u001b[38;5;241m=\u001b[39m \u001b[38;5;124mf\u001b[39m\u001b[38;5;124m'\u001b[39m\u001b[38;5;124m[name=\u001b[39m\u001b[38;5;124m\"\u001b[39m\u001b[38;5;132;01m{\u001b[39;00mvalue\u001b[38;5;132;01m}\u001b[39;00m\u001b[38;5;124m\"\u001b[39m\u001b[38;5;124m]\u001b[39m\u001b[38;5;124m'\u001b[39m\n\u001b[1;32m--> 741\u001b[0m \u001b[38;5;28;01mreturn\u001b[39;00m \u001b[38;5;28mself\u001b[39m\u001b[38;5;241m.\u001b[39mexecute(Command\u001b[38;5;241m.\u001b[39mFIND_ELEMENT, {\u001b[38;5;124m\"\u001b[39m\u001b[38;5;124musing\u001b[39m\u001b[38;5;124m\"\u001b[39m: by, \u001b[38;5;124m\"\u001b[39m\u001b[38;5;124mvalue\u001b[39m\u001b[38;5;124m\"\u001b[39m: value})[\u001b[38;5;124m\"\u001b[39m\u001b[38;5;124mvalue\u001b[39m\u001b[38;5;124m\"\u001b[39m]\n",
      "File \u001b[1;32m~\\anaconda3\\Lib\\site-packages\\selenium\\webdriver\\remote\\webdriver.py:347\u001b[0m, in \u001b[0;36mWebDriver.execute\u001b[1;34m(self, driver_command, params)\u001b[0m\n\u001b[0;32m    345\u001b[0m response \u001b[38;5;241m=\u001b[39m \u001b[38;5;28mself\u001b[39m\u001b[38;5;241m.\u001b[39mcommand_executor\u001b[38;5;241m.\u001b[39mexecute(driver_command, params)\n\u001b[0;32m    346\u001b[0m \u001b[38;5;28;01mif\u001b[39;00m response:\n\u001b[1;32m--> 347\u001b[0m     \u001b[38;5;28mself\u001b[39m\u001b[38;5;241m.\u001b[39merror_handler\u001b[38;5;241m.\u001b[39mcheck_response(response)\n\u001b[0;32m    348\u001b[0m     response[\u001b[38;5;124m\"\u001b[39m\u001b[38;5;124mvalue\u001b[39m\u001b[38;5;124m\"\u001b[39m] \u001b[38;5;241m=\u001b[39m \u001b[38;5;28mself\u001b[39m\u001b[38;5;241m.\u001b[39m_unwrap_value(response\u001b[38;5;241m.\u001b[39mget(\u001b[38;5;124m\"\u001b[39m\u001b[38;5;124mvalue\u001b[39m\u001b[38;5;124m\"\u001b[39m, \u001b[38;5;28;01mNone\u001b[39;00m))\n\u001b[0;32m    349\u001b[0m     \u001b[38;5;28;01mreturn\u001b[39;00m response\n",
      "File \u001b[1;32m~\\anaconda3\\Lib\\site-packages\\selenium\\webdriver\\remote\\errorhandler.py:229\u001b[0m, in \u001b[0;36mErrorHandler.check_response\u001b[1;34m(self, response)\u001b[0m\n\u001b[0;32m    227\u001b[0m         alert_text \u001b[38;5;241m=\u001b[39m value[\u001b[38;5;124m\"\u001b[39m\u001b[38;5;124malert\u001b[39m\u001b[38;5;124m\"\u001b[39m]\u001b[38;5;241m.\u001b[39mget(\u001b[38;5;124m\"\u001b[39m\u001b[38;5;124mtext\u001b[39m\u001b[38;5;124m\"\u001b[39m)\n\u001b[0;32m    228\u001b[0m     \u001b[38;5;28;01mraise\u001b[39;00m exception_class(message, screen, stacktrace, alert_text)  \u001b[38;5;66;03m# type: ignore[call-arg]  # mypy is not smart enough here\u001b[39;00m\n\u001b[1;32m--> 229\u001b[0m \u001b[38;5;28;01mraise\u001b[39;00m exception_class(message, screen, stacktrace)\n",
      "\u001b[1;31mNoSuchElementException\u001b[0m: Message: no such element: Unable to locate element: {\"method\":\"xpath\",\"selector\":\"/html/body/div[2]/div/div/div[2]/div/div/div[1]/div[1]/div[2]/section/main/article/div/div[2]/div/div[1]/div[1]/a/div[1]/div[2]\"}\n  (Session info: chrome=125.0.6422.141); For documentation on this error, please visit: https://www.selenium.dev/documentation/webdriver/troubleshooting/errors#no-such-element-exception\nStacktrace:\n\tGetHandleVerifier [0x00007FF6B4671F52+60322]\n\t(No symbol) [0x00007FF6B45ECEC9]\n\t(No symbol) [0x00007FF6B44A7EBA]\n\t(No symbol) [0x00007FF6B44F7676]\n\t(No symbol) [0x00007FF6B44F773C]\n\t(No symbol) [0x00007FF6B453E967]\n\t(No symbol) [0x00007FF6B451C25F]\n\t(No symbol) [0x00007FF6B453BC80]\n\t(No symbol) [0x00007FF6B451BFC3]\n\t(No symbol) [0x00007FF6B44E9617]\n\t(No symbol) [0x00007FF6B44EA211]\n\tGetHandleVerifier [0x00007FF6B49894AD+3301629]\n\tGetHandleVerifier [0x00007FF6B49D36D3+3605283]\n\tGetHandleVerifier [0x00007FF6B49C9450+3563680]\n\tGetHandleVerifier [0x00007FF6B4724326+790390]\n\t(No symbol) [0x00007FF6B45F750F]\n\t(No symbol) [0x00007FF6B45F3404]\n\t(No symbol) [0x00007FF6B45F3592]\n\t(No symbol) [0x00007FF6B45E2F9F]\n\tBaseThreadInitThunk [0x00007FFFD07B257D+29]\n\tRtlUserThreadStart [0x00007FFFD162AA48+40]\n"
     ]
    }
   ],
   "source": [
    "from selenium import webdriver\n",
    "from selenium.webdriver.common.keys import Keys\n",
    "from selenium.webdriver.common.by import By\n",
    "from bs4 import BeautifulSoup\n",
    "import re\n",
    "import csv\n",
    "import time\n",
    "\n",
    "driver = webdriver.Chrome()\n",
    "\n",
    "driver.get('https://www.instagram.com/')\n",
    "\n",
    "time.sleep(2) \n",
    "\n",
    "username = \"ig_id\"\n",
    "password = \"your_password\"\n",
    "\n",
    "username_field = driver.find_element(By.NAME, \"username\")\n",
    "password_field = driver.find_element(By.NAME, \"password\")\n",
    "login_button = driver.find_element(By.XPATH, \"/html/body/div[2]/div/div/div[2]/div/div/div[1]/section/main/article/div[2]/div[1]/div[2]/form/div/div[3]/button/div\")\n",
    "\n",
    "username_field.send_keys(username)\n",
    "password_field.send_keys(password)\n",
    "login_button.click()\n",
    "\n",
    "time.sleep(4)\n",
    "driver.get('https://www.instagram.com/explore/tags/lucknow/')\n",
    "\n",
    "time.sleep(2)\n",
    "\n",
    "driver.find_element(By.XPATH, \"/html/body/div[2]/div/div/div[2]/div/div/div[1]/div[1]/div[2]/section/main/article/div/div[2]/div/div[1]/div[1]/a/div[1]/div[2]\").click()\n",
    "\n",
    "driver.find_element(By.XPATH, \"/html/body/div[7]/div[1]/div/div[3]/div/div/div/div/div[1]/div/div/div/button\").click()\n",
    "\n",
    "time.sleep(2)\n",
    "\n",
    "driver.find_element(By.XPATH, \"/html/body/div[6]/div[1]/div/div[3]/div/div/div/div/div[1]/div/div/div[2]/button\").click()"
   ]
  },
  {
   "cell_type": "code",
   "execution_count": 6,
   "id": "c31a54de",
   "metadata": {},
   "outputs": [
    {
     "name": "stdout",
     "output_type": "stream",
     "text": [
      "Post 1: https://www.instagram.com/p/C7D0gRjvxdz/\n",
      "Post 2: https://www.instagram.com/p/C7NqhjYPrFE/\n",
      "Post 3: https://www.instagram.com/p/C7QHaNmvZtd/\n"
     ]
    }
   ],
   "source": [
    "from selenium import webdriver\n",
    "from selenium.webdriver.common.by import By\n",
    "from selenium.webdriver.support.ui import WebDriverWait\n",
    "from selenium.webdriver.support import expected_conditions as EC\n",
    "import time\n",
    "import requests\n",
    "import json\n",
    "driver = webdriver.Chrome()\n",
    "\n",
    "driver.get('https://www.instagram.com/')\n",
    "\n",
    "time.sleep(2)\n",
    "# Instagram login credentials\n",
    "# username = \"BusinessBoostBeacon\"\n",
    "# password = \"business21\"\n",
    "username_field = driver.find_element(By.NAME, \"username\")\n",
    "password_field = driver.find_element(By.NAME, \"password\")\n",
    "login_button = driver.find_element(By.TAG_NAME, \"button\")\n",
    "\n",
    "username_field.send_keys(\"BusinessBoostBeacon\")\n",
    "password_field.send_keys(\"business21\")\n",
    "login_button.click()\n",
    "\n",
    "time.sleep(4)\n",
    "\n",
    "# Function to display first 3 posts of a hashtag\n",
    "def display_hashtag_posts(hashtag):\n",
    "    driver.get(f\"https://www.instagram.com/explore/tags/{hashtag}/\")\n",
    "    time.sleep(5)  # Adjust delay based on your internet speed\n",
    "\n",
    "    try:\n",
    "        # Find the posts\n",
    "        posts = WebDriverWait(driver, 10).until(\n",
    "            EC.presence_of_all_elements_located((By.XPATH, \"//article//a\"))\n",
    "        )\n",
    "\n",
    "        # Display the first 3 posts\n",
    "        for i in range(min(3, len(posts))):\n",
    "            post_url = posts[i].get_attribute(\"href\")\n",
    "            print(f\"Post {i+1}: {post_url}\")\n",
    "\n",
    "    except Exception as e:\n",
    "        print(f\"An error occurred while fetching posts: {e}\")\n",
    "\n",
    "# Main script execution\n",
    "try:\n",
    "    # Log in to Instagram\n",
    "    # login_to_instagram(username, password)\n",
    "\n",
    "    # Hashtag to search\n",
    "    hashtag = \"textile\"  # Replace with the hashtag you want to search\n",
    "\n",
    "    # Display first 3 posts of the hashtag\n",
    "    display_hashtag_posts(hashtag)\n",
    "\n",
    "finally:\n",
    "    # Close the browser\n",
    "    driver.quit()"
   ]
  },
  {
   "cell_type": "code",
   "execution_count": null,
   "id": "4a2138da",
   "metadata": {},
   "outputs": [],
   "source": []
  },
  {
   "cell_type": "code",
   "execution_count": null,
   "id": "b99de023",
   "metadata": {},
   "outputs": [],
   "source": []
  },
  {
   "cell_type": "code",
   "execution_count": null,
   "id": "45b9cd6c",
   "metadata": {},
   "outputs": [],
   "source": []
  }
 ],
 "metadata": {
  "kernelspec": {
   "display_name": "Python 3 (ipykernel)",
   "language": "python",
   "name": "python3"
  },
  "language_info": {
   "codemirror_mode": {
    "name": "ipython",
    "version": 3
   },
   "file_extension": ".py",
   "mimetype": "text/x-python",
   "name": "python",
   "nbconvert_exporter": "python",
   "pygments_lexer": "ipython3",
   "version": "3.11.5"
  }
 },
 "nbformat": 4,
 "nbformat_minor": 5
}
